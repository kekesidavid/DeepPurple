{
 "cells": [
  {
   "cell_type": "code",
   "execution_count": 8,
   "metadata": {},
   "outputs": [],
   "source": [
    "#dependencies\n",
    "import numpy as np\n",
    "import pandas as pd\n",
    "import matplotlib.pyplot as plt\n",
    "import pathlib\n",
    "import imageio"
   ]
  },
  {
   "cell_type": "code",
   "execution_count": 37,
   "metadata": {},
   "outputs": [],
   "source": [
    "#returns the path of an image by it's index number\n",
    "def get_image_path_by_index(i):\n",
    "    fp = open('../data/CUB_200_2011/images.txt', 'r')\n",
    "    images_folder = '../data/CUB_200_2011/images/'\n",
    "    cnt = 0\n",
    "    while cnt < i:\n",
    "        cnt += 1\n",
    "        line = fp.readline()\n",
    "    filename = line.split(' ')[1]\n",
    "    return images_folder + filename"
   ]
  },
  {
   "cell_type": "code",
   "execution_count": 36,
   "metadata": {},
   "outputs": [
    {
     "name": "stdout",
     "output_type": "stream",
     "text": [
      "../data/CUB_200_2011/images/001.Black_footed_Albatross/Black_Footed_Albatross_0047_796064.jpg\n",
      "\n"
     ]
    }
   ],
   "source": [
    "print(get_image_path_by_index(31))"
   ]
  },
  {
   "cell_type": "code",
   "execution_count": null,
   "metadata": {},
   "outputs": [],
   "source": []
  }
 ],
 "metadata": {
  "kernelspec": {
   "display_name": "Python 3",
   "language": "python",
   "name": "python3"
  },
  "language_info": {
   "codemirror_mode": {
    "name": "ipython",
    "version": 3
   },
   "file_extension": ".py",
   "mimetype": "text/x-python",
   "name": "python",
   "nbconvert_exporter": "python",
   "pygments_lexer": "ipython3",
   "version": "3.7.3"
  }
 },
 "nbformat": 4,
 "nbformat_minor": 2
}
